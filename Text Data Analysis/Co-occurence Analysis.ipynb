{
 "cells": [
  {
   "cell_type": "markdown",
   "metadata": {},
   "source": [
    "Name: Jiaxuan Zhang\n",
    "\n",
    "Andrew ID: jiaxuanz\n",
    "\n",
    "Collaborators (if none, say \"none\"; do *not* leave this blank): none\n",
    "\n",
    "Reminder: you should not be sharing code."
   ]
  },
  {
   "cell_type": "markdown",
   "metadata": {},
   "source": [
    "### Instructions\n",
    "1. Fill in your name, Andrew ID, and collaborators above.\n",
    "2. Fill in the code/text blocks to answer each question.\n",
    "3. Do *not* change any of the existing code provided.\n",
    "4. Run the entire notebook *before* submitting it on Canvas to make sure that the code actually runs without errors. (**Important**: Any code cells that you have entered code for but did not actually execute will be disregarded, so please be sure to actually run your code first and make sure it runs without errors! We may re-run a subset of your code for grading purposes.)\n",
    "5. Be careful about where you save data for use with this Jupyter notebook (more details on this later)."
   ]
  },
  {
   "cell_type": "markdown",
   "metadata": {},
   "source": [
    "### [Problem 1] Basic Text Analysis [45 pts]\n",
    "\n",
    "This problem involves a mix of Python review (loops, conditionals, counters/dictionaries, sorting) and learning to work with a sizable collection of text data.\n",
    "\n",
    "You will be looking at a phenomenon of \"natural languages\" (i.e., human languages, such as English) called *Zipf's law*, which relates how frequently a word occurs in a language to its \"rank\" (the word with rank 1 is the most frequently occurring word, the word with rank 2 is the second most frequently occurring word, etc). In particular, the word with rank 1 appears twice as likely as the word with rank 2, and the three times as likely as the word with rank 3, and so forth. (Some details on Zipf's law can be found on [Wikipedia](https://en.wikipedia.org/wiki/Zipf%27s_law).) In this problem, you are going to test Zipf's law on a real dataset and explore some of its properties.\n",
    "\n",
    "**Throughout this problem, do not remove stopwords.**\n",
    "\n",
    "This problem assumes you have already installed the `spaCy` package ([https://spacy.io](https://spacy.io)). Instructions for installing this are part of the tutorial file \"`Anaconda, Jupyter, and spaCy setup tutorial.pdf`\". You can find how to access lemmatized tokens using `spaCy` by looking at the `spaCy` demo Jupyter notebook from lecture.\n",
    "\n",
    "Note: For this problem, you don't actually need `spaCy`'s named entity recognition, grammatical parsing, or part-of-speech tagging. Turning these elements off when you instantiate the nlp object can substantially speed up your code.  To make sure these are off when instantiating the nlp object, call: \n",
    "\n",
    "`\n",
    "nlp = spacy.load('en_core_web_sm', disable=['ner', 'parser', 'tagger'])\n",
    "`\n",
    "\n",
    "The dataset is a collection of the 100 most popular books downloaded from Gutenburg Project ([https://www.gutenberg.org/browse/scores/top](https://www.gutenberg.org/browse/scores/top)); these 100 books form the corpus that we consider for this problem. Each file contains the text of a book. We will read in all 100 books.\n",
    "\n",
    "Note: Please *do not* change the folder name or the path, and make sure you use a relative path (e.g. './HW1_Dataset/*filename*) when reading the files. When grading your homework, we will put your Jupyter notebook file and the dataset in the same folder, and run your code. **You will not receive points for this problem if your code fails to load the data.**\n",
    "\n",
    "Hint: To list all files that match a certain pattern, you can use the `glob` package. Here's an example usage:\n",
    "\n",
    "`\n",
    "import glob\n",
    "print(glob.glob('./HW1_Dataset/*.txt'))\n",
    "`\n",
    "\n",
    "**(a) [5 pts]** As a warm-up, write a loop that iterates through all 100 books; for each book, print out its corresponding file name and also how long the book is in terms of string length (meaning that if we load in the book as a string, we compute the length of the string using the built-in Python function `len`).\n",
    "\n",
    "Hint: When debugging your code, you may want to first make sure your code runs on a few of the books rather than all 100 (for example, you can start by only having 3 of the text files in `HW1_Dataset`). Once you're confident that your solution is correct on a few text files, then run on all of them! This is a standard approach to debugging code that is meant to handle large datasets."
   ]
  },
  {
   "cell_type": "code",
   "execution_count": 1,
   "metadata": {
    "scrolled": true
   },
   "outputs": [
    {
     "name": "stdout",
     "output_type": "stream",
     "text": [
      "File name: A Christmas Carol in Prose; Being a Ghost Story of Christmas by Charles Dickens (265).txt \n",
      "Length:    177758\n",
      "File name: A History of Spanish Literature by James Fitzmaurice-Kelly (109).txt \n",
      "Length:    765918\n",
      "File name: A Modest Proposal by Jonathan Swift (233).txt \n",
      "Length:    38966\n",
      "File name: A Study in Scarlet by Arthur Conan Doyle (163).txt \n",
      "Length:    262340\n",
      "File name: A Tale of Two Cities by Charles Dickens (425).txt \n",
      "Length:    776702\n",
      "File name: Adventures of Huckleberry Finn by Mark Twain (401).txt \n",
      "Length:    593962\n",
      "File name: Alice in Wonderland by Lewis Carroll and Alice Gerstenberg (126).txt \n",
      "Length:    104079\n",
      "File name: Alice's Adventures in Wonderland by Lewis Carroll (564).txt \n",
      "Length:    163817\n",
      "File name: Anne of Green Gables by L. M.  Montgomery (114).txt \n",
      "Length:    580635\n",
      "File name: Autobiography of Benjamin Franklin by Benjamin Franklin (247).txt \n",
      "Length:    458600\n",
      "File name: Beowulf An Anglo-Saxon Epic Poem (403).txt \n",
      "Length:    292953\n",
      "File name: Beyond Good and Evil by Friedrich Wilhelm Nietzsche (120).txt \n",
      "Length:    402273\n",
      "File name: Candide by Voltaire (180).txt \n",
      "Length:    224924\n",
      "File name: Carmilla by Joseph Sheridan Le Fanu (135).txt \n",
      "Length:    176408\n",
      "File name: Common Sense by Thomas Paine (297).txt \n",
      "Length:    145353\n",
      "File name: Dracula by Bram Stoker (461).txt \n",
      "Length:    867141\n",
      "File name: Dubliners by James Joyce (219).txt \n",
      "Length:    389199\n",
      "File name: Emma by Jane Austen (166).txt \n",
      "Length:    902390\n",
      "File name: Essays by Ralph Waldo Emerson by Ralph Waldo Emerson (239).txt \n",
      "Length:    557197\n",
      "File name: Et dukkehjem. English by Henrik Ibsen (557).txt \n",
      "Length:    161241\n",
      "File name: Frankenstein; Or, The Modern Prometheus by Mary Wollstonecraft Shelley (501).txt \n",
      "Length:    441034\n",
      "File name: Great Expectations by Charles Dickens (293).txt \n",
      "Length:    1013450\n",
      "File name: Grimms' Fairy Tales by Jacob Grimm and Wilhelm Grimm (429).txt \n",
      "Length:    540241\n",
      "File name: Gulliver's Travels into Several Remote Nations of the World by Jonathan Swift (136).txt \n",
      "Length:    600105\n",
      "File name: Heart of Darkness by Joseph Conrad (213).txt \n",
      "Length:    229835\n",
      "File name: Hedda Gabler by Henrik Ibsen (123).txt \n",
      "Length:    193875\n",
      "File name: Il Principe. English by Niccolo虁 Machiavelli (428) (Unicode Encoding Conflict).txt \n",
      "Length:    300788\n",
      "File name: Jane Eyre_ An Autobiography by Charlotte Bronte虉 (290) (Unicode Encoding Conflict).txt \n",
      "Length:    1049267\n",
      "File name: Leaves of Grass by Walt Whitman (164).txt \n",
      "Length:    757361\n",
      "File name: Les Mise虂rables by Victor Hugo (165) (Unicode Encoding Conflict).txt \n",
      "Length:    3254333\n",
      "File name: Leviathan by Thomas Hobbes (417).txt \n",
      "Length:    1231784\n",
      "File name: Liberalism by L. T.  Hobhouse (119).txt \n",
      "Length:    305345\n",
      "File name: Metamorphosis by Franz Kafka (483).txt \n",
      "Length:    139056\n",
      "File name: Moby Dick; Or, The Whale by Herman Melville (413).txt \n",
      "Length:    1238569\n",
      "File name: My Fifteen Lost Years by Florence Elizabeth Maybrick (499).txt \n",
      "Length:    383694\n",
      "File name: My Secret Life, Volumes I. to III. by Anonymous (157).txt \n",
      "Length:    1378627\n",
      "File name: Narrative of the Captivity and Restoration of Mrs. Mary Rowlandson by Mary White Rowlandson (222).txt \n",
      "Length:    123784\n",
      "File name: Narrative of the Life of Frederick Douglass, an American Slave by Frederick Douglass (243).txt \n",
      "Length:    244263\n",
      "File name: On Liberty by John Stuart Mill (116).txt \n",
      "Length:    325922\n",
      "File name: Outpost in the Wilderness_ Fort Wayne, 1706-1828 by Charles Poinsatte (161).txt \n",
      "Length:    363234\n",
      "File name: Persuasion by Jane Austen (2234).txt \n",
      "Length:    486251\n",
      "File name: Peter Pan by J. M.  Barrie (274).txt \n",
      "Length:    278194\n",
      "File name: Prestuplenie i nakazanie. English by Fyodor Dostoyevsky (160).txt \n",
      "Length:    1154508\n",
      "File name: Pride and Prejudice by Jane Austen (1003).txt \n",
      "Length:    704192\n",
      "File name: Robert Greene by Robert Greene (126).txt \n",
      "Length:    760655\n",
      "File name: Semmering 1912 by Peter Altenberg (221).txt \n",
      "Length:    264946\n",
      "File name: Sense and Sensibility by Jane Austen (177).txt \n",
      "Length:    693095\n",
      "File name: Siddhartha by Hermann Hesse (216).txt \n",
      "Length:    236855\n",
      "File name: Songs of Innocence, and Songs of Experience by William Blake (166).txt \n",
      "Length:    51724\n",
      "File name: The Adventures of Sherlock Holmes by Arthur Conan Doyle (447).txt \n",
      "Length:    581864\n",
      "File name: The Adventures of Tom Sawyer by Mark Twain (371).txt \n",
      "Length:    412712\n",
      "File name: The Awakening, and Selected Short Stories by Kate Chopin (192).txt \n",
      "Length:    378936\n",
      "File name: The Boy Fortune Hunters in China by L. Frank  Baum (215).txt \n",
      "Length:    324452\n",
      "File name: The Boy Fortune Hunters in the South Seas by L. Frank  Baum (150).txt \n",
      "Length:    266166\n",
      "File name: The Complete Works of William Shakespeare by William Shakespeare (132).txt \n",
      "Length:    5465100\n",
      "File name: The Confessions of St. Augustine by Bishop of Hippo Saint Augustine (157).txt \n",
      "Length:    622405\n",
      "File name: The Count of Monte Cristo, Illustrated by Alexandre Dumas (160).txt \n",
      "Length:    2643849\n",
      "File name: The Divine Comedy by Dante, Illustrated by Dante Alighieri (119).txt \n",
      "Length:    2161\n",
      "File name: The Faery Queen and Her Knights by Alfred John Church (177).txt \n",
      "Length:    447320\n",
      "File name: The Federalist Papers by Alexander Hamilton and John Jay and James Madison (116).txt \n",
      "Length:    1167141\n",
      "File name: The Guardsman by Homer Greene (175).txt \n",
      "Length:    412900\n",
      "File name: The History of the Peloponnesian War by Thucydides (122).txt \n",
      "Length:    1200021\n",
      "File name: The Hound of the Baskervilles by Arthur Conan Doyle (223).txt \n",
      "Length:    339188\n",
      "File name: The Iliad by Homer (256).txt \n",
      "Length:    1175588\n",
      "File name: The Importance of Being Earnest_ A Trivial Comedy for Serious People by Oscar Wilde (454).txt \n",
      "Length:    138887\n",
      "File name: The Innocents Abroad by Mark Twain (108).txt \n",
      "Length:    1126278\n",
      "File name: The Interesting Narrative of the Life of Olaudah Equiano, Or Gustavus Vassa, The African by Equiano (114).txt \n",
      "Length:    471165\n",
      "File name: The Kama Sutra of Vatsyayana by Vatsyayana (172).txt \n",
      "Length:    351664\n",
      "File name: The King James Version of the Bible (132).txt \n",
      "Length:    4351846\n",
      "File name: The Law of Storms by John Wilson Ross (110).txt \n",
      "Length:    65264\n",
      "File name: The Legend of Sleepy Hollow by Washington Irving (399).txt \n",
      "Length:    89237\n",
      "File name: The Life and Adventures of Robinson Crusoe by Daniel Defoe (126).txt \n",
      "Length:    642909\n",
      "File name: The Mysterious Affair at Styles by Agatha Christie (115).txt \n",
      "Length:    340770\n",
      "File name: The Odyssey by Homer (124).txt \n",
      "Length:    697404\n",
      "File name: The Peddler Spy by W. J. Hamilton (356).txt \n",
      "Length:    197390\n",
      "File name: The Philosophy of Spiritual Activity by Rudolf Steiner (144).txt \n",
      "Length:    545031\n",
      "File name: The Picture of Dorian Gray by Oscar Wilde (282).txt \n",
      "Length:    453169\n",
      "File name: The Republic by Plato (246).txt \n",
      "Length:    1214387\n",
      "File name: The Romance of Lust_ A Classic Victorian erotic novel by Anonymous (294).txt \n",
      "Length:    1051148\n",
      "File name: The Scarlet Letter by Nathaniel Hawthorne (211).txt \n",
      "Length:    506975\n",
      "File name: The Souls of Black Folk by W. E. B.  Du Bois (172).txt \n",
      "Length:    421336\n",
      "File name: The Strange Case of Dr. Jekyll and Mr. Hyde by Robert Louis Stevenson (158).txt \n",
      "Length:    158048\n",
      "File name: The Strange Case of Dr. Jekyll and Mr. Hyde by Robert Louis Stevenson (170).txt \n",
      "Length:    159542\n",
      "File name: The Time Machine by H. G.  Wells (137).txt \n",
      "Length:    198281\n",
      "File name: The Tragedy of Romeo and Juliet by William Shakespeare (131).txt \n",
      "Length:    174128\n",
      "File name: The Tragical History of Doctor Faustus by Christopher Marlowe (144).txt \n",
      "Length:    143736\n",
      "File name: The Turn of the Screw by Henry James (185).txt \n",
      "Length:    248089\n",
      "File name: The Wendigo by Algernon Blackwood (174).txt \n",
      "Length:    127464\n",
      "File name: The Wonderful Wizard of Oz by L. Frank  Baum (150).txt \n",
      "Length:    227654\n",
      "File name: The Yellow Wallpaper by Charlotte Perkins Gilman (462).txt \n",
      "Length:    50841\n",
      "File name: Through the Looking-Glass by Lewis Carroll (134).txt \n",
      "Length:    181667\n",
      "File name: Treasure Island by Robert Louis Stevenson (236).txt \n",
      "Length:    383675\n",
      "File name: Ulysses by James Joyce (282).txt \n",
      "Length:    1534140\n",
      "File name: Uncle Tom's Cabin by Harriet Beecher Stowe (108).txt \n",
      "Length:    1025501\n",
      "File name: Walden, and On The Duty Of Civil Disobedience by Henry David Thoreau (180).txt \n",
      "Length:    656207\n"
     ]
    },
    {
     "name": "stdout",
     "output_type": "stream",
     "text": [
      "File name: War and Peace by graf Leo Tolstoy (251).txt \n",
      "Length:    3227580\n",
      "File name: Wuthering Heights by Emily Bronte虉 (179) (Unicode Encoding Conflict).txt \n",
      "Length:    669150\n"
     ]
    }
   ],
   "source": [
    "import glob\n",
    "for book in glob.glob('./HW1_Dataset/*.txt'):\n",
    "    path = book.split(\"\\\\\")[1]\n",
    "    with open(book, 'r', encoding = 'utf-8') as myFile:\n",
    "        data = myFile.read() \n",
    "    print('File name: %s \\nLength:    %d' % (path, len(data)))\n",
    "    "
   ]
  },
  {
   "cell_type": "markdown",
   "metadata": {},
   "source": [
    "**(b) [15 pts]** Build a term frequency table for all 100 books. Specifically, building on your solution to part (a), read in a single book at a time and for each book, do the following two steps:\n",
    "\n",
    "  1. Process the text by separating and lemmatizing the words.\n",
    "  2. Count the number of times each word appears in the book and add these to a frequency table. (In particular, use raw counts as the \"frequency\"--do not divide by the total number of words in the corpus.)\n",
    "\n",
    "Note that unlike in part (a), this time around, there's no need to print out the file names and how long each book is.\n",
    "\n",
    "After looping through all 100 books, you should have the term frequency table for the entire corpus (importantly, the frequency table should not just be for a single book; it should be for all 100 books). Sort the table and print the top 50 most frequent words, along with their frequencies and ranks. Don't worry about ties (for example, if multiple things have the same frequency, it's fine if your solution breaks ties arbitrarily in the sorting).\n",
    "\n",
    "Note: When counting the words, only include words (tokens) that consist of alphabetic letters (a-z and A-Z). You can do this with what's called a *regular expression*. For example, to check whether the words \"will.i.am\" or \"Tesla\" are alphabetic, you would do the following:\n",
    "\n",
    "`\n",
    "import re  # regular expression package\n",
    "if re.match('[a-zA-Z]+$', 'will.i.am'):\n",
    "    print('will.i.am consists only of alphabetic letters!')\n",
    "if re.match('[a-zA-Z]+$', 'Tesla'):\n",
    "    print('tesla consists only of alphabetic letters!')\n",
    "`"
   ]
  },
  {
   "cell_type": "code",
   "execution_count": 2,
   "metadata": {},
   "outputs": [
    {
     "name": "stdout",
     "output_type": "stream",
     "text": [
      "Rank  Lemma  Frequency\n",
      " 1      the  600164\n",
      " 2       be  397308\n",
      " 3      and  365413\n",
      " 4       of  343175\n",
      " 5        a  313288\n",
      " 6       to  287765\n",
      " 7        I  178430\n",
      " 8       in  177564\n",
      " 9     have  175228\n",
      "10     that  146495\n",
      "11       it  104392\n",
      "12       he  102540\n",
      "13      not  101908\n",
      "14      his  97466\n",
      "15      you  94381\n",
      "16     with  91596\n",
      "17      for  79873\n",
      "18      her  65256\n",
      "19       my  63905\n",
      "20     this  60392\n",
      "21       on  58058\n",
      "22       at  56883\n",
      "23       do  56366\n",
      "24      him  55864\n",
      "25      say  55818\n",
      "26       me  55546\n",
      "27       by  52517\n",
      "28      all  51314\n",
      "29    which  51001\n",
      "30      but  49544\n",
      "31      The  48131\n",
      "32     from  44411\n",
      "33     they  43349\n",
      "34     much  43060\n",
      "35       or  41329\n",
      "36     will  41258\n",
      "37      she  40483\n",
      "38      And  39283\n",
      "39      can  38951\n",
      "40       so  37615\n",
      "41     them  35954\n",
      "42      man  35890\n",
      "43      one  35079\n",
      "44    their  32599\n",
      "45       go  31582\n",
      "46       we  30583\n",
      "47    would  30284\n",
      "48      see  29197\n",
      "49     come  29107\n",
      "50       no  28704\n"
     ]
    }
   ],
   "source": [
    "import spacy\n",
    "import glob\n",
    "from collections import Counter\n",
    "from operator import itemgetter\n",
    "import re\n",
    "# Sort the table and print the top 50 most frequent words, along with their frequencies and ranks.\n",
    "\n",
    "histogram = Counter()\n",
    "nlp = spacy.load('en_core_web_sm', disable=['ner', 'parser', 'tagger'])\n",
    "nlp.max_length = 100000000\n",
    "\n",
    "for book in glob.glob('./HW1_Dataset/*.txt'):\n",
    "    text = open(book, encoding='utf-8').read()\n",
    "    parsed_text = nlp(text)\n",
    "    for token in parsed_text:\n",
    "        lemma = token.lemma_\n",
    "        if re.match('[a-zA-Z]+$', lemma):\n",
    "            histogram[lemma] += 1\n",
    "        \n",
    "sorted_token_count_pairs = sorted(histogram.items(), reverse=True, key=lambda x:x[1])\n",
    "\n",
    "print('%s  %s  %s' % ('Rank', 'Lemma', 'Frequency'))\n",
    "for rank, (lemma, count) in enumerate(sorted_token_count_pairs[:50]):\n",
    "    print('%2d  %7s  %d' % (rank+1, lemma, count))"
   ]
  },
  {
   "cell_type": "markdown",
   "metadata": {},
   "source": [
    "**(c) [10 pts]** Visualize the frequency table by plotting a **raw scatter plot** (put frequency as the y-axis and rank as the x-axis), and a **log-log plot** (use logarithmic scales on both the x- and y- axes). Note that this should be for all words and not only the top 50. As before, for the ranks, do not worry about ties, i.e., break ties arbitrarily."
   ]
  },
  {
   "cell_type": "code",
   "execution_count": 3,
   "metadata": {},
   "outputs": [
    {
     "data": {
      "text/plain": [
       "Text(0, 0.5, 'Frequency')"
      ]
     },
     "execution_count": 3,
     "metadata": {},
     "output_type": "execute_result"
    },
    {
     "data": {
      "image/png": "[encoded data removed]",
      "text/plain": [
       "<Figure size 576x396 with 1 Axes>"
      ]
     },
     "metadata": {},
     "output_type": "display_data"
    }
   ],
   "source": [
    "%matplotlib inline\n",
    "import matplotlib.pyplot as plt\n",
    "plt.style.use('seaborn')\n",
    "\n",
    "freq = [count for lemma, count in sorted_token_count_pairs]\n",
    "\n",
    "plt.scatter(range(1, len(sorted_token_count_pairs)+1), freq)\n",
    "plt.xlabel('Lemma Ranking')\n",
    "plt.ylabel('Frequency')"
   ]
  },
  {
   "cell_type": "code",
   "execution_count": 4,
   "metadata": {},
   "outputs": [
    {
     "data": {
      "text/plain": [
       "Text(0, 0.5, 'Log Frequency')"
      ]
     },
     "execution_count": 4,
     "metadata": {},
     "output_type": "execute_result"
    },
    {
     "data": {
      "image/png": "[encoded data removed]",
      "text/plain": [
       "<Figure size 576x396 with 1 Axes>"
      ]
     },
     "metadata": {},
     "output_type": "display_data"
    }
   ],
   "source": [
    "plt.loglog(range(1, len(sorted_token_count_pairs)+1), freq)\n",
    "plt.xlabel('Log Lemma Ranking')\n",
    "plt.ylabel('Log Frequency')"
   ]
  },
  {
   "cell_type": "markdown",
   "metadata": {},
   "source": [
    "**(d) [15 pts]** Explore the frequency table: Zipf's law states that term frequency is governed by a power low, i.e. the relationship between term frequency and rank can be approximated by $f(r) = cr^{-1}$, where $f(r)$ is the frequency of the term at rank $r$, $r$ is the rank of a term, and $c$ is a constant and is approximately 0.1*(corpus size) for English. \n",
    "\n",
    "Answer following questions:\n",
    "\n",
    "- What do you observe in the log-log plot above? Is this consist with the power law?"
   ]
  },
  {
   "cell_type": "markdown",
   "metadata": {},
   "source": [
    "Your text answer (for this question, your answer is *not* code): \n",
    "\n",
    "In the log-log plot above, there is a obvious inverse ratio between the ranking and frequency. This is probably consistent with the power law if we test the value of c here. "
   ]
  },
  {
   "cell_type": "markdown",
   "metadata": {},
   "source": [
    "- Think of the corpus as a (large) unigram bag of words. Following the analogy from lecture, imagine drawing a single word from this big bag (note that we are assuming that we've lemmatized the words and also filtered out non-alphanumeric words). What is the probability of drawing one of the 4 most frequent words? What is the probability of drawing one of the 50 most frequent words? Answer these two questions using code rather than just entering in the final answers as numbers."
   ]
  },
  {
   "cell_type": "code",
   "execution_count": 5,
   "metadata": {},
   "outputs": [
    {
     "name": "stdout",
     "output_type": "stream",
     "text": [
      "Probability of drawing one of the 4 most frequent words: 15.15%\n",
      "Probability of drawing one of the 50 most frequent words: 45.53%\n"
     ]
    }
   ],
   "source": [
    "sum_all, sum_4, sum_50 = 0, 0, 0\n",
    "for rank, f in enumerate(freq):\n",
    "    sum_all += f\n",
    "    if rank < 4:\n",
    "        sum_4 += f\n",
    "    if rank < 50:\n",
    "        sum_50 += f\n",
    "\n",
    "print('Probability of drawing one of the 4 most frequent words: %.2f%%' % (sum_4/sum_all*100))\n",
    "\n",
    "\n",
    "print('Probability of drawing one of the 50 most frequent words: %.2f%%' % (sum_50/sum_all*100))"
   ]
  },
  {
   "cell_type": "markdown",
   "metadata": {},
   "source": [
    "- What proportion of the words occur only once? What proportion of the words occur fewer than 10 times?"
   ]
  },
  {
   "cell_type": "code",
   "execution_count": 6,
   "metadata": {
    "scrolled": true
   },
   "outputs": [
    {
     "name": "stdout",
     "output_type": "stream",
     "text": [
      "Occur only once: 43.18%\n",
      "Occur fewer than 10 times: 77.54%\n"
     ]
    }
   ],
   "source": [
    "max_word = len(sorted_token_count_pairs)\n",
    "word_one_time = [word for (word, freq) in sorted_token_count_pairs if freq == 1]\n",
    "word_fewer_than_ten_time = [word for (word, freq) in sorted_token_count_pairs if freq < 10]\n",
    "\n",
    "print(\"Occur only once: %.2f%%\" % (len(word_one_time) / max_word * 100))\n",
    "print(\"Occur fewer than 10 times: %.2f%%\" % (len(word_fewer_than_ten_time) / max_word * 100))\n"
   ]
  },
  {
   "cell_type": "markdown",
   "metadata": {},
   "source": [
    "### [Problem 2] Entity Recognition and Pointwise Mutual Information (PMI) [50 pts]\n",
    "By using the entity recognition system in `spaCy`, let's identify named entities from newspaper articles. You'll be using Reuters corpus which contains more than ten thousand newspaper articles. To run the code below, you need to download the Reuters dataset. To do so, in a terminal/command line (recall that you can open a terminal from Jupyter's webpage that shows all the files, which by default is [http://localhost:8888/tree](http://localhost:8888/tree)), start up Python and enter:\n",
    "\n",
    "`\n",
    "import nltk\n",
    "nltk.download('reuters')\n",
    "`\n",
    "\n",
    "Then proceed to the problem subparts below.\n",
    "\n",
    "Note that in this problem you will need named entity recognition but not grammatical parsing or the part-of-speech tagging. Hence, you will want to instantiate the nlp object by calling:\n",
    "\n",
    "`\n",
    "nlp = spacy.load('en_core_web_sm', disable=['parser', 'tagger'])\n",
    "`\n"
   ]
  },
  {
   "cell_type": "markdown",
   "metadata": {},
   "source": [
    "**(a) [15 pts]** Draw a bar chart in which one of the axes shows entity labels and the other shows the frequency of the corresponding label. Use the variables `reuters_nlp` and `label_counter` provided in the code below."
   ]
  },
  {
   "cell_type": "code",
   "execution_count": 7,
   "metadata": {},
   "outputs": [],
   "source": [
    "import matplotlib.pyplot as plt\n",
    "from collections import Counter\n",
    "from nltk.corpus import reuters\n",
    "import re\n",
    "import spacy\n",
    "nlp = spacy.load('en_core_web_sm', disable=['parser', 'tagger'])\n",
    "reuters_fileids = reuters.fileids()  # hint: when first debugging, consider looking at just the first few\n",
    "reuters_nlp = [nlp(re.sub('\\s+',' ', reuters.raw(i)).strip()) for i in reuters_fileids]"
   ]
  },
  {
   "cell_type": "code",
   "execution_count": 8,
   "metadata": {},
   "outputs": [
    {
     "data": {
      "text/plain": [
       "Text(0, 0.5, 'Frequency')"
      ]
     },
     "execution_count": 8,
     "metadata": {},
     "output_type": "execute_result"
    },
    {
     "data": {
      "image/png": "[encoded data removed]",
      "text/plain": [
       "<Figure size 576x396 with 1 Axes>"
      ]
     },
     "metadata": {},
     "output_type": "display_data"
    }
   ],
   "source": [
    "%matplotlib inline\n",
    "import matplotlib.pyplot as plt\n",
    "plt.style.use('seaborn')\n",
    "\n",
    "label_counter = Counter()\n",
    "for article in reuters_nlp:\n",
    "    for entity in article.ents:\n",
    "        label_counter[entity.label_] += 1\n",
    "sorted_label_count_pairs = sorted(label_counter.items(),\n",
    "                                 key=lambda x:x[1],\n",
    "                                 reverse=True)\n",
    "label = [l for l, freq in sorted_label_count_pairs]\n",
    "freq = [freq for l, freq in sorted_label_count_pairs]\n",
    "\n",
    "plt.bar(label, freq)\n",
    "plt.xticks(rotation=60)\n",
    "plt.xlabel('Label')\n",
    "plt.ylabel('Frequency')"
   ]
  },
  {
   "cell_type": "markdown",
   "metadata": {},
   "source": [
    "**(b) [15 pts]** Now list the top 10 most frequently occured entities (entity text and the number of occurence) with labels `ORG` (organization) and `GPE` (geopolitical entity such as countries, cities, states) respectively.\n",
    "\n",
    "Hint: Here, when counting the frequency, we need to count how many articles have an entity with the desired property. For every article, we add 1 if the article has the entity and 0 otherwise.  List filtering (as in Recitation 1) will be helpful here."
   ]
  },
  {
   "cell_type": "code",
   "execution_count": 9,
   "metadata": {},
   "outputs": [
    {
     "name": "stdout",
     "output_type": "stream",
     "text": [
      "Ranking                             Entity_ORG  Occurence            Entity_GPE  Occurence\n",
      " 1                                         mln       2368                  U.S.       1737\n",
      " 2                                         cts       1264                 Japan        535\n",
      " 3                                         pct       1097     the United States        349\n",
      " 4                                         QTR       1001                  U.K.        287\n",
      " 5                                     Reuters        431              New York        259\n",
      " 6      the Securities and Exchange Commission        244                Canada        250\n",
      " 7                                          EC        234            Washington        240\n",
      " 8                                         MLN        214          West Germany        232\n",
      " 9                                        USDA        195                London        191\n",
      "10                                    Treasury        157                Brazil        189\n"
     ]
    }
   ],
   "source": [
    "entity_counter_ORG = Counter()  \n",
    "entity_counter_GPE = Counter()  \n",
    "for article in reuters_nlp:\n",
    "    ORG_entity = list(set([ent.lemma_ for ent in article.ents if ent.label_ == 'ORG'])) # Use set to ensure the uniqueness of the entity\n",
    "    GPE_entity = list(set([ent.lemma_ for ent in article.ents if ent.label_ == 'GPE']))\n",
    "    for org in ORG_entity:\n",
    "        entity_counter_ORG[org] += 1\n",
    "    for gpe in GPE_entity:\n",
    "        entity_counter_GPE[gpe] += 1\n",
    "        \n",
    "sorted_entity_count_pairs_ORG = sorted(entity_counter_ORG.items(),\n",
    "                                 key=lambda x:x[1],\n",
    "                                 reverse=True)\n",
    "sorted_entity_count_pairs_GPE = sorted(entity_counter_GPE.items(),\n",
    "                                 key=lambda x:x[1],\n",
    "                                 reverse=True)\n",
    "print('%s  %37s  %s  %20s  %s' % ('Ranking', 'Entity_ORG', 'Occurence', 'Entity_GPE', 'Occurence'))\n",
    "for i in range(10):\n",
    "    print('%2d  %42s  %9d  %20s  %9d' % (i+1, sorted_entity_count_pairs_ORG[i][0], sorted_entity_count_pairs_ORG[i][1], \n",
    "                                  sorted_entity_count_pairs_GPE[i][0], sorted_entity_count_pairs_GPE[i][1]))\n",
    "        "
   ]
  },
  {
   "cell_type": "markdown",
   "metadata": {},
   "source": [
    "**(c) [20 pts]** Give the top 50 `GPE` (countries, cities, states) entities that have the highest Pointwise Mutual Information (PMI) values with regard to the `ORG` (organization) entity **'opec'** (your list of this top 50 should be ranked in decreasing PMI value). Did you find any unexpected results? If so, why do you think it happened? If you found some of the results to be unsurprisingly, how come? \n",
    "\n",
    "Hint 1: As in lecture, when computing PMI, we will compute probabilities by counting the number of documents where entities occur or co-occur.  For example, $P('opec') = \\frac{number \\ \\ of \\ \\ documents \\ \\ containing \\ \\ 'opec'}{number \\ \\ of \\ \\ documents}$.  \n",
    "\n",
    "Hint 2: To compute this ranking, you do not have to compute the full PMI equation."
   ]
  },
  {
   "cell_type": "code",
   "execution_count": 10,
   "metadata": {},
   "outputs": [
    {
     "name": "stdout",
     "output_type": "stream",
     "text": [
      "Rank                  Entity  Co-occurence  Occurence\n",
      " 1                     ADNOC             1          1\n",
      " 2                      I.E.             1          1\n",
      " 3                Miraflores             1          1\n",
      " 4                  Emirates             2          2\n",
      " 5                  Bethesda             1          1\n",
      " 6                     Gabon             2          2\n",
      " 7                     Bonny             1          1\n",
      " 8              Neutral Zone             2          2\n",
      " 9                     qatar             1          1\n",
      "10                     Yanbu             2          2\n",
      "11                   Tripoli             2          2\n",
      "12                   Visnews             3          3\n",
      "13                      Doha             1          1\n",
      "14                   BAHRAIN             1          1\n",
      "15    VENEZUELA Ecuador have             1          1\n",
      "16         non - OPEC Mexico             1          1\n",
      "17                 Maracaibo             2          2\n",
      "18                   Tihamah             1          1\n",
      "19                     paris             1          1\n",
      "20                   caracas             1          1\n",
      "21                    Vienna            17         20\n",
      "22                    Riyadh             4          5\n",
      "23                   kingdom             7          9\n",
      "24                     Brent             3          4\n",
      "25         Saudi Arabia have            11         16\n",
      "26                     Dubai             4          6\n",
      "27                     Quito             4          6\n",
      "28                     Balao             5          8\n",
      "29                     Qatar            15         26\n",
      "30                   Caracas             5          9\n",
      "31                   ECUADOR            12         23\n",
      "32       The United States '             1          2\n",
      "33                   Nigeria            10         20\n",
      "34                 Statfjord             1          2\n",
      "35                 VENEZUELA             3          6\n",
      "36               Port Jerome             1          2\n",
      "37               North Slope             1          2\n",
      "38                     Libya             6         13\n",
      "39                   Ecuador            25         56\n",
      "40              Saudi Arabia            28         64\n",
      "41                    Kuwait            27         66\n",
      "42  the United Arab Emirates            11         27\n",
      "43                 Venezuela            17         44\n",
      "44                  Petronas             1          3\n",
      "45                     Lagos             1          3\n",
      "46                     SAUDI             1          3\n",
      "47                   Jamaica             2          7\n",
      "48                Alexandria             1          4\n",
      "49                    Tobago             1          4\n",
      "50                 Hernandez             1          4\n"
     ]
    }
   ],
   "source": [
    "occurence_GPE = Counter() # To count the occurence of GPE: numerator\n",
    "occurence_opec_GPE = Counter() # To count the co-occurence of GPE and opec: denominator\n",
    "for article in reuters_nlp:\n",
    "    ORG_entity = list(set([ent.lemma_ for ent in article.ents if ent.label_ == u'ORG']))\n",
    "    GPE_entity = list(set([ent.lemma_ for ent in article.ents if ent.label_ == u'GPE']))\n",
    "    for gpe in GPE_entity:\n",
    "        occurence_GPE[gpe] += 1\n",
    "    if u'OPEC' in ORG_entity:\n",
    "        for gpe in GPE_entity:\n",
    "            occurence_opec_GPE[gpe] += 1\n",
    "\n",
    "unsorted_PMI = {ent: occurence_opec_GPE[ent] / occurence_GPE[ent] for ent in occurence_opec_GPE}\n",
    "sorted_PMI = sorted(unsorted_PMI.items(), key=lambda x:x[1], reverse=True)  # sorted by PMI value (part of calculation)\n",
    "\n",
    "print('%s  %22s  %s  %s' % ('Rank', 'Entity', 'Co-occurence', 'Occurence'))\n",
    "for idx, (ent, pmi) in enumerate(sorted_PMI[:50]):\n",
    "    print('%2d  %24s  %12d  %9d' % (idx+1, ent, occurence_opec_GPE[ent], occurence_GPE[ent]))"
   ]
  },
  {
   "cell_type": "markdown",
   "metadata": {},
   "source": [
    "Your text answer (for this question, your answer is *not* code): *** WRITE YOUR ANSWER HERE ***\n",
    "\n",
    "There are several entities like Qatar and Vienna that are expected to be ranked higher in this list since they are directly relevant to OPEC. However, the entities with highest ranking are not all we hope for. This can be caused by several reason: \n",
    "1. the dataset(number of documents) is too small for statistical inference \n",
    "2. the entity recognization rule in Spacy may be not very perfect. \n",
    "3. The definition of PMI reveals that the rare words often get high value."
   ]
  },
  {
   "cell_type": "markdown",
   "metadata": {},
   "source": [
    "### [Problem 3] Questionnaire [5 pts]\n",
    "Please provide feedback! To receive the 5 points, be sure to enter your Andrew ID correctly in this Google form: https://forms.gle/mxaGJbcEenDC9cvk6"
   ]
  }
 ],
 "metadata": {
  "anaconda-cloud": {},
  "kernelspec": {
   "display_name": "Python 3",
   "language": "python",
   "name": "python3"
  },
  "language_info": {
   "codemirror_mode": {
    "name": "ipython",
    "version": 3
   },
   "file_extension": ".py",
   "mimetype": "text/x-python",
   "name": "python",
   "nbconvert_exporter": "python",
   "pygments_lexer": "ipython3",
   "version": "3.7.1"
  }
 },
 "nbformat": 4,
 "nbformat_minor": 4
}
